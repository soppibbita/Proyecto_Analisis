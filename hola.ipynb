{
 "cells": [
  {
   "cell_type": "markdown",
   "id": "b82b2406",
   "metadata": {},
   "source": [
    "# Entrega 1\n",
    "\n",
    "## 1. Preprocesamiento de datos "
   ]
  },
  {
   "cell_type": "code",
   "execution_count": null,
   "id": "6c3a15fc",
   "metadata": {},
   "outputs": [
    {
     "name": "stderr",
     "output_type": "stream",
     "text": [
      "C:\\Users\\Soppita\\AppData\\Local\\Temp\\ipykernel_29372\\1796632637.py:9: DtypeWarning: Columns (4,6,8,12,13,14,15,16,17,18,19,20,21) have mixed types. Specify dtype option on import or set low_memory=False.\n",
      "  data = pd.read_csv(file_path)\n"
     ]
    },
    {
     "name": "stdout",
     "output_type": "stream",
     "text": [
      "Archivo CSV cargado correctamente.\n"
     ]
    }
   ],
   "source": [
    "import pandas as pd\n",
    "import matplotlib.pyplot as plt\n",
    "import seaborn as sns\n",
    "from collections import Counter\n",
    "import ast\n",
    "\n",
    "file_path = 'data/dblp-2025-03-01 - 15.03.2025.csv'\n",
    "\n",
    "data = pd.read_csv(file_path)\n",
    "print(\"Archivo CSV cargado correctamente.\")\n"
   ]
  },
  {
   "cell_type": "code",
   "execution_count": 6,
   "id": "6ee3fd03",
   "metadata": {},
   "outputs": [
    {
     "name": "stdout",
     "output_type": "stream",
     "text": [
      "<class 'pandas.core.frame.DataFrame'>\n",
      "RangeIndex: 3788386 entries, 0 to 3788385\n",
      "Data columns (total 22 columns):\n",
      " #   Column                                     Dtype  \n",
      "---  ------                                     -----  \n",
      " 0   mdate                                      object \n",
      " 1   key                                        object \n",
      " 2   title                                      object \n",
      " 3   author                                     object \n",
      " 4   pages                                      object \n",
      " 5   year                                       float64\n",
      " 6   volume                                     object \n",
      " 7   journal                                    object \n",
      " 8   number                                     object \n",
      " 9   ee                                         object \n",
      " 10  url                                        object \n",
      " 11  stream                                     object \n",
      " 12  month                                      object \n",
      " 13  cdrom                                      object \n",
      " 14  cite                                       object \n",
      " 15  note                                       object \n",
      " 16  editor                                     object \n",
      " 17  <cyfunction Entity at 0x00000213F35C8520>  object \n",
      " 18  crossref                                   object \n",
      " 19  publnr                                     object \n",
      " 20  booktitle                                  object \n",
      " 21  publisher                                  object \n",
      "dtypes: float64(1), object(21)\n",
      "memory usage: 635.9+ MB\n"
     ]
    }
   ],
   "source": [
    "data.head()\n",
    "data.info()"
   ]
  },
  {
   "cell_type": "code",
   "execution_count": 7,
   "id": "a275c614",
   "metadata": {},
   "outputs": [
    {
     "name": "stdout",
     "output_type": "stream",
     "text": [
      "\n",
      "Cantidad de valores nulos por columna:\n",
      "mdate                                              0\n",
      "key                                                0\n",
      "title                                              1\n",
      "author                                             0\n",
      "pages                                         841566\n",
      "year                                               3\n",
      "volume                                            79\n",
      "journal                                            5\n",
      "number                                       1363867\n",
      "ee                                             24006\n",
      "url                                              783\n",
      "stream                                       3567477\n",
      "month                                        3478516\n",
      "cdrom                                        3784385\n",
      "cite                                         3786546\n",
      "note                                         3787025\n",
      "editor                                       3788371\n",
      "<cyfunction Entity at 0x00000213F35C8520>    3788319\n",
      "crossref                                     3786193\n",
      "publnr                                       3783923\n",
      "booktitle                                    3788384\n",
      "publisher                                    3788158\n",
      "dtype: int64\n"
     ]
    }
   ],
   "source": [
    "print(\"\\nCantidad de valores nulos por columna:\")\n",
    "print(data.isnull().sum())"
   ]
  },
  {
   "cell_type": "markdown",
   "id": "1e156ba8",
   "metadata": {},
   "source": [
    "## 2. Análisis exploratorio"
   ]
  },
  {
   "cell_type": "code",
   "execution_count": 8,
   "id": "444ec632",
   "metadata": {},
   "outputs": [
    {
     "name": "stdout",
     "output_type": "stream",
     "text": [
      "\n",
      "Columna 'year' convertida a entero (ignorando valores no numéricos).\n",
      "\n",
      "Columna 'author' procesada y nombres de autores extraídos en la columna 'authors'.\n",
      "Primeras filas de la columna 'authors':\n",
      "0                                                   []\n",
      "1                                                   []\n",
      "2                                                   []\n",
      "3                                       [Emilio Coppa]\n",
      "4    [Wei-Di Chang, Scott Fujimoto, David Meger, Gr...\n",
      "Name: authors, dtype: object\n"
     ]
    }
   ],
   "source": [
    "if 'year' in data.columns:\n",
    "    try:\n",
    "        data['year'] = pd.to_numeric(data['year'], errors='coerce').dropna().astype(int)\n",
    "        print(\"\\nColumna 'year' convertida a entero (ignorando valores no numéricos).\")\n",
    "    except KeyError:\n",
    "        print(\"\\nLa columna 'year' no existe.\")\n",
    "\n",
    "def extract_author_names(author_list_str):\n",
    "    try:\n",
    "        author_list = ast.literal_eval(author_list_str)\n",
    "        return [author['name'] for author in author_list]\n",
    "    except (ValueError, TypeError):\n",
    "        return []  # Retorna una lista vacía si hay un error al parsear\n",
    "\n",
    "if 'author' in data.columns:\n",
    "    data['authors'] = data['author'].apply(extract_author_names)\n",
    "    print(\"\\nColumna 'author' procesada y nombres de autores extraídos en la columna 'authors'.\")\n",
    "    print(\"Primeras filas de la columna 'authors':\")\n",
    "    print(data['authors'].head())\n",
    "else:\n",
    "    print(\"\\nLa columna 'author' no existe.\")"
   ]
  },
  {
   "cell_type": "code",
   "execution_count": 1,
   "id": "9017e493",
   "metadata": {},
   "outputs": [
    {
     "ename": "NameError",
     "evalue": "name 'data' is not defined",
     "output_type": "error",
     "traceback": [
      "\u001b[31m---------------------------------------------------------------------------\u001b[39m",
      "\u001b[31mNameError\u001b[39m                                 Traceback (most recent call last)",
      "\u001b[36mCell\u001b[39m\u001b[36m \u001b[39m\u001b[32mIn[1]\u001b[39m\u001b[32m, line 2\u001b[39m\n\u001b[32m      1\u001b[39m \u001b[38;5;66;03m# b) Análisis de Frecuencia de Autores\u001b[39;00m\n\u001b[32m----> \u001b[39m\u001b[32m2\u001b[39m \u001b[38;5;28;01mif\u001b[39;00m \u001b[33m'\u001b[39m\u001b[33mauthors\u001b[39m\u001b[33m'\u001b[39m \u001b[38;5;129;01min\u001b[39;00m \u001b[43mdata\u001b[49m.columns:\n\u001b[32m      3\u001b[39m     all_authors = [author \u001b[38;5;28;01mfor\u001b[39;00m sublist \u001b[38;5;129;01min\u001b[39;00m data[\u001b[33m'\u001b[39m\u001b[33mauthors\u001b[39m\u001b[33m'\u001b[39m] \u001b[38;5;28;01mfor\u001b[39;00m author \u001b[38;5;129;01min\u001b[39;00m sublist]\n\u001b[32m      4\u001b[39m     author_counts = Counter(all_authors)\n",
      "\u001b[31mNameError\u001b[39m: name 'data' is not defined"
     ]
    }
   ],
   "source": [
    "# b) Análisis de Frecuencia de Autores\n",
    "if 'authors' in data.columns:\n",
    "    all_authors = [author for sublist in data['authors'] for author in sublist]\n",
    "    author_counts = Counter(all_authors)\n",
    "    top_authors = author_counts.most_common(20)\n",
    "\n",
    "    plt.figure(figsize=(10, 8))\n",
    "    sns.barplot(x=[count for word, count in top_authors], y=[word for word, count in top_authors])\n",
    "    plt.title('Top 20 Autores')\n",
    "    plt.xlabel('Frecuencia')\n",
    "    plt.ylabel('Autor')\n",
    "    plt.xticks(rotation=90)\n",
    "    plt.tight_layout()\n",
    "    plt.savefig('top_autores.png') # Guarda el gráfico\n",
    "    plt.show()\n",
    "else:\n",
    "    print(\"\\nNo se puede realizar el análisis de frecuencia de autores porque la columna 'authors' no existe.\")"
   ]
  },
  {
   "cell_type": "code",
   "execution_count": null,
   "id": "a3e84ce4",
   "metadata": {},
   "outputs": [],
   "source": [
    "# a) Análisis de la Producción Científica por Año\n",
    "if 'year' in data.columns:\n",
    "    yearly_counts = data['year'].value_counts().sort_index()\n",
    "    plt.figure(figsize=(12, 6))\n",
    "    sns.lineplot(x=yearly_counts.index, y=yearly_counts.values)\n",
    "    plt.title('Número de Publicaciones por Año')\n",
    "    plt.xlabel('Año')\n",
    "    plt.ylabel('Número de Publicaciones')\n",
    "    plt.grid(True)\n",
    "    plt.savefig('publicaciones_por_anio.png') # Guarda el gráfico\n",
    "    plt.show()\n",
    "else:\n",
    "    print(\"\\nNo se puede realizar el análisis de publicaciones por año porque la columna 'year' no existe.\")"
   ]
  },
  {
   "cell_type": "code",
   "execution_count": null,
   "id": "a7a48843",
   "metadata": {},
   "outputs": [],
   "source": [
    "# c) Análisis de Publicaciones por Revista (journal)\n",
    "if 'journal' in data.columns:\n",
    "    journal_counts = data['journal'].value_counts().nlargest(20)\n",
    "    plt.figure(figsize=(12, 6))\n",
    "    sns.barplot(x=journal_counts.values, y=journal_counts.index, orient='h')\n",
    "    plt.title('Top 20 Revistas con Más Publicaciones')\n",
    "    plt.xlabel('Número de Publicaciones')\n",
    "    plt.ylabel('Revista')\n",
    "    plt.tight_layout()\n",
    "    plt.savefig('publicaciones_por_revista.png') # Guarda el gráfico\n",
    "    plt.show()\n",
    "else:\n",
    "    print(\"\\nNo se puede realizar el análisis de publicaciones por revista porque la columna 'journal' no existe.\")\n",
    "\n",
    "print(\"\\nAnálisis exploratorio básico completado. Los gráficos han sido guardados como archivos PNG.\")"
   ]
  }
 ],
 "metadata": {
  "kernelspec": {
   "display_name": "Python 3",
   "language": "python",
   "name": "python3"
  },
  "language_info": {
   "codemirror_mode": {
    "name": "ipython",
    "version": 3
   },
   "file_extension": ".py",
   "mimetype": "text/x-python",
   "name": "python",
   "nbconvert_exporter": "python",
   "pygments_lexer": "ipython3",
   "version": "3.11.9"
  }
 },
 "nbformat": 4,
 "nbformat_minor": 5
}
